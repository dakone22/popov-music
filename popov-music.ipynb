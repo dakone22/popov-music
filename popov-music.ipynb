{
 "cells": [
  {
   "cell_type": "markdown",
   "id": "b859fe1cfdd94818",
   "metadata": {
    "collapsed": false,
    "jupyter": {
     "outputs_hidden": false
    }
   },
   "source": [
    "# Делаем музыку"
   ]
  },
  {
   "cell_type": "code",
   "execution_count": 1,
   "id": "74ce3ba00694d38f",
   "metadata": {
    "ExecuteTime": {
     "end_time": "2023-12-19T20:56:52.706773162Z",
     "start_time": "2023-12-19T20:56:51.266617459Z"
    },
    "collapsed": false,
    "jupyter": {
     "outputs_hidden": false
    }
   },
   "outputs": [],
   "source": [
    "from pathlib import Path\n",
    "\n",
    "# Путь к проекту\n",
    "SOURCE_PATH = Path().absolute()\n",
    "# Отладочные сообщения: True - печатать сообщения; False - не печатать\n",
    "DEBUG = False\n",
    "# терминатор - это сочетание 0xE и 0xF для графа де Брюйна с кол-вом брейков (концов записи аккорд) = L-1 (символ 0xE - старт записи вершины; символ 0xF = break).\n",
    "TERMINATOR = 0"
   ]
  },
  {
   "cell_type": "markdown",
   "id": "fa655371-791d-4c9c-b090-ba6f9a13337f",
   "metadata": {
    "ExecuteTime": {
     "end_time": "2023-12-19T20:56:52.706773162Z",
     "start_time": "2023-12-19T20:56:51.266617459Z"
    },
    "collapsed": false,
    "jupyter": {
     "outputs_hidden": false
    }
   },
   "source": [
    "## 1 Генерируем графы"
   ]
  },
  {
   "cell_type": "markdown",
   "id": "857ab098-cf20-421b-9421-34688528b7a5",
   "metadata": {
    "ExecuteTime": {
     "end_time": "2023-12-19T20:56:52.706773162Z",
     "start_time": "2023-12-19T20:56:51.266617459Z"
    },
    "collapsed": false,
    "jupyter": {
     "outputs_hidden": false
    }
   },
   "source": [
    "### 1.1 Пути"
   ]
  },
  {
   "cell_type": "code",
   "execution_count": 2,
   "id": "ca35ada09653e0c",
   "metadata": {
    "ExecuteTime": {
     "end_time": "2023-12-19T20:59:54.014608452Z",
     "start_time": "2023-12-19T20:59:53.922988742Z"
    },
    "collapsed": false,
    "jupyter": {
     "outputs_hidden": false
    }
   },
   "outputs": [],
   "source": [
    "# Путь к директории с исходными миди\n",
    "SOURCE_MIDI_FOLDER = SOURCE_PATH / \"data\" / \"midi_sources\"\n",
    "\n",
    "# Путь к директории с результатами: графами де Брюйна\n",
    "PCL_RESULT_FOLDER = SOURCE_PATH / \"data\" / \"midi_results\"\n",
    "\n",
    "# Словарь вершин графа в формате: индекс вершины, полученный как crc32 аккордов | код вершины\n",
    "VERTEX_DICTIONARY_PATH = PCL_RESULT_FOLDER / \"dictionary.pcl\""
   ]
  },
  {
   "cell_type": "markdown",
   "id": "6564b2d6-b8a7-43cb-8cc8-22ad9cc8edb4",
   "metadata": {
    "ExecuteTime": {
     "end_time": "2023-12-19T20:59:54.014608452Z",
     "start_time": "2023-12-19T20:59:53.922988742Z"
    },
    "collapsed": false,
    "jupyter": {
     "outputs_hidden": false
    }
   },
   "source": [
    "### 1.2 Настройка"
   ]
  },
  {
   "cell_type": "code",
   "execution_count": 3,
   "id": "56d78599-4748-4bc1-9e42-e6a255803db8",
   "metadata": {
    "ExecuteTime": {
     "end_time": "2023-12-19T20:59:54.014608452Z",
     "start_time": "2023-12-19T20:59:53.922988742Z"
    },
    "collapsed": false,
    "jupyter": {
     "outputs_hidden": false
    }
   },
   "outputs": [],
   "source": [
    "from chord_processing import ChordProcessor\n",
    "from midi_processing import MidiProcessor\n",
    "\n",
    "# Настройка графа Де Брюйна (параметр L - количество аккордов для кода вершины)\n",
    "L = 3\n",
    "\n",
    "chord_processor = ChordProcessor(L, TERMINATOR, debug=DEBUG)\n",
    "midi_processor = MidiProcessor(chord_processor, VERTEX_DICTIONARY_PATH)"
   ]
  },
  {
   "cell_type": "markdown",
   "id": "d82c89054bf83cf1",
   "metadata": {
    "collapsed": false,
    "jupyter": {
     "outputs_hidden": false
    }
   },
   "source": [
    "### 1.3 Выбираем midi-файлы и обрабатываем"
   ]
  },
  {
   "cell_type": "code",
   "execution_count": null,
   "id": "4a69164adee86f37",
   "metadata": {
    "ExecuteTime": {
     "end_time": "2023-12-21T15:21:58.914527611Z",
     "start_time": "2023-12-21T15:21:57.891680366Z"
    },
    "collapsed": false,
    "jupyter": {
     "outputs_hidden": false
    }
   },
   "outputs": [],
   "source": [
    "from midi_processing import get_filtered_files\n",
    "\n",
    "# Файлы для обработки\n",
    "midi_files: list[Path] = get_filtered_files(SOURCE_MIDI_FOLDER, '*.mid')\n",
    "print(f\"Файлы для обработки: {midi_files}\")\n",
    "\n",
    "# Обрабатываем файлы\n",
    "midi_processor.process(midi_files, PCL_RESULT_FOLDER)"
   ]
  },
  {
   "cell_type": "markdown",
   "id": "40dabf0d2e5d1d8c",
   "metadata": {
    "collapsed": false,
    "jupyter": {
     "outputs_hidden": false
    }
   },
   "source": [
    "## 2 Генерируем музыку"
   ]
  },
  {
   "cell_type": "markdown",
   "id": "af344d01-0add-4580-b151-f29c65130ddc",
   "metadata": {
    "collapsed": false,
    "jupyter": {
     "outputs_hidden": false
    }
   },
   "source": [
    "### 2.1 Чтение графа"
   ]
  },
  {
   "cell_type": "code",
   "execution_count": 4,
   "id": "d7cddd02290d399f",
   "metadata": {
    "ExecuteTime": {
     "end_time": "2023-12-21T15:22:35.635785512Z",
     "start_time": "2023-12-21T15:22:35.586719049Z"
    },
    "collapsed": false,
    "jupyter": {
     "outputs_hidden": false
    }
   },
   "outputs": [],
   "source": [
    "# Путь к хранилищу графов\n",
    "# GRAPH_SOURCES = Path(\"/data/hackathon2023/pcl\")\n",
    "# PCL_PATH = GRAPH_SOURCES / \"PianoChords_dst_l5_concatenated\" #168K цепочек аккордов\n",
    "# PCL_PATH = GRAPH_SOURCES / \"WorldMusic_dst_l5_concatenated\" #116K произведений\n",
    "PCL_PATH = PCL_RESULT_FOLDER  # Path(\"/data/iu_home/iu6042/lab6/data/midi_results\")\n",
    "assert PCL_PATH.exists()"
   ]
  },
  {
   "cell_type": "code",
   "execution_count": 5,
   "id": "d3a15372-e544-494f-8475-e043df76447f",
   "metadata": {
    "ExecuteTime": {
     "end_time": "2023-12-21T15:22:35.635785512Z",
     "start_time": "2023-12-21T15:22:35.586719049Z"
    },
    "collapsed": false,
    "jupyter": {
     "outputs_hidden": false
    }
   },
   "outputs": [
    {
     "name": "stdout",
     "output_type": "stream",
     "text": [
      "Количество ребер в графе ДеБрюйна: 2693\n"
     ]
    }
   ],
   "source": [
    "from music_generation import combine_pickle_files, get_files_with_params\n",
    "\n",
    "L = 3\n",
    "TONALITY = \"C_major\"  # TODO: tonality select ?\n",
    "\n",
    "# Объединим графы деБрюйна\n",
    "files = get_files_with_params(PCL_PATH, TONALITY, L)\n",
    "df = combine_pickle_files(files)\n",
    "\n",
    "print(f\"Количество ребер в графе ДеБрюйна: {len(df)}\")"
   ]
  },
  {
   "cell_type": "markdown",
   "id": "6126c2ee-d4bd-4cd0-80ef-789022fe8b0c",
   "metadata": {},
   "source": [
    "### 2.2 Использем GPC "
   ]
  },
  {
   "cell_type": "code",
   "execution_count": 6,
   "id": "cffa51827a3b508d",
   "metadata": {
    "collapsed": false,
    "jupyter": {
     "outputs_hidden": false
    }
   },
   "outputs": [],
   "source": [
    "from music_generation import GPCWrapper\n",
    "\n",
    "SW_KERNEL_PATH = SOURCE_PATH / \"lab7\" / \"sw-kernel\" / \"sw_kernel.rawbinary\"\n",
    "HANDLERS_PATH = SOURCE_PATH / \"lab7\" / \"include\" / \"gpc_handlers.h\"\n",
    "\n",
    "generator = GPCWrapper(SW_KERNEL_PATH, HANDLERS_PATH, TERMINATOR)"
   ]
  },
  {
   "cell_type": "code",
   "execution_count": 7,
   "id": "178ef5f5-eb6f-48de-9952-91f4561c9379",
   "metadata": {},
   "outputs": [
    {
     "name": "stdout",
     "output_type": "stream",
     "text": [
      "/dev/gpc0\n",
      "{'insert_edges': 16, 'get_vertex_data': 17, 'get_first_vertex': 18, 'get_next_vertex': 19, 'get_random_vertices': 20}\n",
      "Обход графа ДеБрюйна завершен, среднее количество ребер: 2.1\n"
     ]
    }
   ],
   "source": [
    "# Максимальное количество голосов для стилистической обработки\n",
    "MAX_VOICE_COUNT = 128\n",
    "\n",
    "# Количество пройденных вершин графа ДеБрюйна (длинна произведения)\n",
    "CHORD_COUNT = 2000\n",
    "\n",
    "\n",
    "edges_count, origin_mid, mono_mid, voice_count = generator.run(df, CHORD_COUNT, MAX_VOICE_COUNT)\n",
    "\n",
    "# Выводим информацию о среднем количестве ребер\n",
    "randomnicity = f\"{edges_count / CHORD_COUNT:.1f}\"\n",
    "print(\"Обход графа ДеБрюйна завершен, среднее количество ребер: \" + randomnicity)"
   ]
  },
  {
   "cell_type": "markdown",
   "id": "3381c3df-302a-47d7-b206-2774db6969c8",
   "metadata": {},
   "source": [
    "### 2.3 Настройки сохранения"
   ]
  },
  {
   "cell_type": "code",
   "execution_count": 8,
   "id": "d3b1b5c5-aa1c-45c9-8dba-d4f31b1a1dfd",
   "metadata": {},
   "outputs": [],
   "source": [
    "from os import system as execute_command\n",
    "from datetime import datetime\n",
    "\n",
    "# Путь к директории с результирующим миди\n",
    "RESULT_PATH = SOURCE_PATH / \"results\"\n",
    "\n",
    "# Имя результирующего файла\n",
    "date_time = datetime.now().strftime(\"%d.%m.%Y-%H:%M:%S\")\n",
    "\n",
    "# Создадим директорию для разделения результата на моноголосные партии\n",
    "result_path = RESULT_PATH / f\"random_L{L}_{date_time}_{TONALITY}_r{randomnicity}\"\n",
    "execute_command(f\"mkdir -p {result_path}\")\n",
    "\n",
    "filename = \"result\""
   ]
  },
  {
   "cell_type": "markdown",
   "id": "372646e9-3682-46e3-bcaf-2f434fc9f85f",
   "metadata": {},
   "source": [
    "### 2.4 Стилизация"
   ]
  },
  {
   "cell_type": "code",
   "execution_count": 9,
   "id": "d491778d-b3f6-4a05-88d6-bd80b34c5352",
   "metadata": {},
   "outputs": [],
   "source": [
    "# Стилизатор  # Бакалаврский проект Петра Шумнова & ИУ7 (All rights reserved) - https://github.com/MrShumnov/music-style-performer\n",
    "# Путь к стилизатору\n",
    "STYLE_PERFORMER = Path(\"/data/hackathon2023/music-style-performer\")\n",
    "# Путь к образцу стиля исполнения\n",
    "STYLES_PATH = STYLE_PERFORMER / \"styles\"\n",
    "\n",
    "MIDI_STYLE = STYLES_PATH / \"debussy_prelude.mid\"  # файл со стилем, переносимым на произведение/ Дебюсси - импрессионист, близко к джазовой импровизации\n",
    "# MIDI_STYLE = STYLES_PATH / \"scrjabin.mid\"       # файл со стилем, переносимым на произведение/ Классика, романтизм, эмоциональный окрас\n",
    "# MIDI_STYLE = STYLES_PATH / \"rachmaninoff.mid\"   # файл со стилем, переносимым на произведение/ Рахманинов - русская классика, широко и эмоционально\n"
   ]
  },
  {
   "cell_type": "code",
   "execution_count": 10,
   "id": "b048b96f-bdaf-446c-819d-4fe735637c1d",
   "metadata": {},
   "outputs": [
    {
     "name": "stdout",
     "output_type": "stream",
     "text": [
      "Стилизация голоса 1 из 6\n",
      "Start training\n",
      "Step: 500 | total: 4.601382255554199, style: 0.13077546656131744, quality: 0.6781181693077087\n",
      "Step: 1000 | total: 4.04916524887085, style: 0.11661117523908615, quality: 0.550830066204071\n",
      "Step: 1500 | total: 3.7388901710510254, style: 0.10634945333003998, quality: 0.5484064817428589\n",
      "Step: 2000 | total: 3.5648274421691895, style: 0.09955094754695892, quality: 0.5782990455627441\n",
      "Step: 2500 | total: 3.4661707878112793, style: 0.09542776644229889, quality: 0.603337824344635\n",
      "Step: 3000 | total: 3.4056239128112793, style: 0.09273705631494522, quality: 0.6235123872756958\n",
      "Step: 3500 | total: 3.364276170730591, style: 0.0907779112458229, quality: 0.6409386992454529\n",
      "Step: 4000 | total: 3.3394665718078613, style: 0.08946452289819717, quality: 0.6555309295654297\n",
      "Step: 4500 | total: 3.3147661685943604, style: 0.08819471299648285, quality: 0.6689247488975525\n",
      "Step: 5000 | total: 3.3000717163085938, style: 0.08739776164293289, quality: 0.6781389713287354\n",
      "Step: 5500 | total: 3.2903406620025635, style: 0.08686002343893051, quality: 0.6845399737358093\n",
      "Step: 6000 | total: 3.284923791885376, style: 0.08663191646337509, quality: 0.6859661936759949\n",
      "Step: 6500 | total: 3.283517837524414, style: 0.08655983209609985, quality: 0.6867226362228394\n",
      "Step: 7000 | total: 3.2824594974517822, style: 0.08644452691078186, quality: 0.6891235709190369\n",
      "Step: 7500 | total: 3.2804479598999023, style: 0.08628498017787933, quality: 0.6918985247612\n",
      "Step: 8000 | total: 3.2792012691497803, style: 0.08620575815439224, quality: 0.693028450012207\n",
      "Step: 8500 | total: 3.2789618968963623, style: 0.08617953956127167, quality: 0.6935756802558899\n",
      "Step: 9000 | total: 3.2789649963378906, style: 0.08617877960205078, quality: 0.6936014890670776\n",
      "Step: 9500 | total: 3.2789623737335205, style: 0.08617853373289108, quality: 0.693606436252594\n",
      "Step: 10000 | total: 3.278960704803467, style: 0.08617973327636719, quality: 0.693568766117096\n",
      "Step: 10500 | total: 3.278961420059204, style: 0.08617927879095078, quality: 0.693583071231842\n",
      "Step: 11000 | total: 3.2789602279663086, style: 0.08618055284023285, quality: 0.6935437917709351\n",
      "Step: 11500 | total: 3.278959035873413, style: 0.08618002384901047, quality: 0.6935582756996155\n",
      "Step: 12000 | total: 3.2789320945739746, style: 0.08617556840181351, quality: 0.6936649084091187\n",
      "Step: 12500 | total: 3.2789299488067627, style: 0.08617618680000305, quality: 0.6936442255973816\n",
      "Step: 13000 | total: 3.278930425643921, style: 0.08617561310529709, quality: 0.6936618685722351\n",
      "Step: 13500 | total: 3.2789316177368164, style: 0.08617599308490753, quality: 0.6936519742012024\n",
      "Step: 14000 | total: 3.2789316177368164, style: 0.08617524057626724, quality: 0.6936744451522827\n",
      "Step: 14500 | total: 3.278930902481079, style: 0.08617579191923141, quality: 0.6936571598052979\n",
      "Step: 15000 | total: 3.278930425643921, style: 0.08617547154426575, quality: 0.6936662793159485\n",
      "Total time: 556.9\n",
      "Стилизация голоса 2 из 6\n",
      "Start training\n",
      "Step: 500 | total: 4.9735331535339355, style: 0.142396479845047, quality: 0.7016386985778809\n",
      "Step: 1000 | total: 4.384265422821045, style: 0.12861847877502441, quality: 0.5257110595703125\n",
      "Step: 1500 | total: 4.0584516525268555, style: 0.11939024180173874, quality: 0.47674447298049927\n",
      "Step: 2000 | total: 3.885636806488037, style: 0.11343617737293243, quality: 0.4825514554977417\n",
      "Step: 2500 | total: 3.778484344482422, style: 0.10935705900192261, quality: 0.497772753238678\n",
      "Step: 3000 | total: 3.705545425415039, style: 0.10615662485361099, quality: 0.5208465456962585\n",
      "Step: 3500 | total: 3.6638944149017334, style: 0.10414612293243408, quality: 0.5395107865333557\n",
      "Step: 4000 | total: 3.6442418098449707, style: 0.10296091437339783, quality: 0.5554145574569702\n",
      "Step: 4500 | total: 3.6339495182037354, style: 0.10209644585847855, quality: 0.571056067943573\n",
      "Step: 5000 | total: 3.625459909439087, style: 0.1013144701719284, quality: 0.5860257744789124\n",
      "Step: 5500 | total: 3.6191654205322266, style: 0.10076024383306503, quality: 0.5963579416275024\n",
      "Step: 6000 | total: 3.6158056259155273, style: 0.10046077519655228, quality: 0.6019824147224426\n",
      "Step: 6500 | total: 3.6138293743133545, style: 0.10035029798746109, quality: 0.603320300579071\n",
      "Step: 7000 | total: 3.6135997772216797, style: 0.10033666342496872, quality: 0.6034999489784241\n",
      "Step: 7500 | total: 3.6135964393615723, style: 0.10033976286649704, quality: 0.603403627872467\n",
      "Step: 8000 | total: 3.613597869873047, style: 0.10033988952636719, quality: 0.603401243686676\n",
      "Step: 8500 | total: 3.6135973930358887, style: 0.10034031420946121, quality: 0.6033881902694702\n",
      "Step: 9000 | total: 3.6135964393615723, style: 0.10033831745386124, quality: 0.603446900844574\n",
      "Step: 9500 | total: 3.6135988235473633, style: 0.10033933073282242, quality: 0.6034189462661743\n",
      "Step: 10000 | total: 3.6135976314544678, style: 0.1003396064043045, quality: 0.603409469127655\n",
      "Step: 10500 | total: 3.613598585128784, style: 0.10034005343914032, quality: 0.6033968925476074\n",
      "Step: 11000 | total: 3.6135966777801514, style: 0.10033906996250153, quality: 0.6034245491027832\n",
      "Step: 11500 | total: 3.6135964393615723, style: 0.1003386601805687, quality: 0.6034367084503174\n",
      "Step: 12000 | total: 3.613600254058838, style: 0.1003388836979866, quality: 0.6034337878227234\n",
      "Step: 12500 | total: 3.6135971546173096, style: 0.10033915191888809, quality: 0.6034225821495056\n",
      "Step: 13000 | total: 3.613600969314575, style: 0.10033921152353287, quality: 0.6034244894981384\n",
      "Step: 13500 | total: 3.6135973930358887, style: 0.10033934563398361, quality: 0.6034168004989624\n",
      "Step: 14000 | total: 3.6135976314544678, style: 0.10033976286649704, quality: 0.6034048199653625\n",
      "Step: 14500 | total: 3.6135993003845215, style: 0.10033934563398361, quality: 0.6034187078475952\n",
      "Step: 15000 | total: 3.6135997772216797, style: 0.10033975541591644, quality: 0.603407084941864\n",
      "Total time: 353.9\n",
      "Стилизация голоса 3 из 6\n",
      "Start training\n",
      "Step: 500 | total: 4.8644843101501465, style: 0.13576088845729828, quality: 0.791657567024231\n",
      "Step: 1000 | total: 4.269200325012207, style: 0.12091399729251862, quality: 0.6417804956436157\n",
      "Step: 1500 | total: 3.925271987915039, style: 0.11068204790353775, quality: 0.6048105359077454\n",
      "Step: 2000 | total: 3.7202558517456055, style: 0.10413014888763428, quality: 0.5963513851165771\n",
      "Step: 2500 | total: 3.571058750152588, style: 0.09869617968797684, quality: 0.6101734638214111\n",
      "Step: 3000 | total: 3.4878041744232178, style: 0.09517952054738998, quality: 0.632418692111969\n",
      "Step: 3500 | total: 3.425323724746704, style: 0.09259147942066193, quality: 0.6475794911384583\n",
      "Step: 4000 | total: 3.3992061614990234, style: 0.09127400070428848, quality: 0.6609862446784973\n",
      "Step: 4500 | total: 3.377492666244507, style: 0.09027060121297836, quality: 0.6693746447563171\n",
      "Step: 5000 | total: 3.363670825958252, style: 0.08974458277225494, quality: 0.6713334321975708\n",
      "Step: 5500 | total: 3.35856556892395, style: 0.08954785764217377, quality: 0.6721299290657043\n",
      "Step: 6000 | total: 3.357672929763794, style: 0.08948070555925369, quality: 0.6732518076896667\n",
      "Step: 6500 | total: 3.355053186416626, style: 0.08945611864328384, quality: 0.6713695526123047\n",
      "Step: 7000 | total: 3.351600408554077, style: 0.08934274315834045, quality: 0.671317994594574\n",
      "Step: 7500 | total: 3.3492467403411865, style: 0.08925367146730423, quality: 0.6716365814208984\n",
      "Step: 8000 | total: 3.346045970916748, style: 0.08915715664625168, quality: 0.6713311076164246\n",
      "Step: 8500 | total: 3.3421471118927, style: 0.0889853835105896, quality: 0.6725857257843018\n",
      "Step: 9000 | total: 3.3356833457946777, style: 0.08866993337869644, quality: 0.6755853891372681\n",
      "Step: 9500 | total: 3.332632303237915, style: 0.08863850682973862, quality: 0.6734772324562073\n",
      "Step: 10000 | total: 3.3304693698883057, style: 0.0884491577744484, quality: 0.6769945621490479\n",
      "Step: 10500 | total: 3.325735569000244, style: 0.08818439394235611, quality: 0.6802036762237549\n",
      "Step: 11000 | total: 3.3242835998535156, style: 0.08804427832365036, quality: 0.682955265045166\n",
      "Step: 11500 | total: 3.324256658554077, style: 0.08805675059556961, quality: 0.6825541853904724\n",
      "Step: 12000 | total: 3.324256658554077, style: 0.08805470913648605, quality: 0.682615339756012\n",
      "Step: 12500 | total: 3.324251651763916, style: 0.08805547654628754, quality: 0.6825875043869019\n",
      "Step: 13000 | total: 3.3242621421813965, style: 0.08805514872074127, quality: 0.6826075911521912\n",
      "Step: 13500 | total: 3.3242547512054443, style: 0.08805456757545471, quality: 0.682617723941803\n",
      "Step: 14000 | total: 3.324253797531128, style: 0.08805615454912186, quality: 0.6825692653656006\n",
      "Step: 14500 | total: 3.324249029159546, style: 0.0880541279911995, quality: 0.6826252937316895\n",
      "Step: 15000 | total: 3.324251651763916, style: 0.08805601298809052, quality: 0.6825711727142334\n",
      "Total time: 239.7\n",
      "Стилизация голоса 4 из 6\n",
      "Start training\n",
      "Step: 500 | total: 4.584660530090332, style: 0.12814658880233765, quality: 0.7402627468109131\n",
      "Step: 1000 | total: 3.9527881145477295, style: 0.11307746171951294, quality: 0.5604642033576965\n",
      "Step: 1500 | total: 3.6025519371032715, style: 0.10286956280469894, quality: 0.51646488904953\n",
      "Step: 2000 | total: 3.401366710662842, style: 0.09632474184036255, quality: 0.5116243958473206\n",
      "Step: 2500 | total: 3.306591749191284, style: 0.0934307873249054, quality: 0.5036681294441223\n",
      "Step: 3000 | total: 3.2282071113586426, style: 0.09041015058755875, quality: 0.5159024596214294\n",
      "Step: 3500 | total: 3.1964292526245117, style: 0.08897039294242859, quality: 0.5273175239562988\n",
      "Step: 4000 | total: 3.183009147644043, style: 0.08835741132497787, quality: 0.5322870016098022\n",
      "Step: 4500 | total: 3.1706056594848633, style: 0.08764401078224182, quality: 0.5412853360176086\n",
      "Step: 5000 | total: 3.156019687652588, style: 0.08686615526676178, quality: 0.5500351190567017\n",
      "Step: 5500 | total: 3.1495749950408936, style: 0.08669635653495789, quality: 0.5486843585968018\n",
      "Step: 6000 | total: 3.144148588180542, style: 0.08646470308303833, quality: 0.5502073764801025\n",
      "Step: 6500 | total: 3.1411800384521484, style: 0.08618126809597015, quality: 0.5557421445846558\n",
      "Step: 7000 | total: 3.138429880142212, style: 0.08600091189146042, quality: 0.5584025382995605\n",
      "Step: 7500 | total: 3.1379165649414062, style: 0.08593569695949554, quality: 0.5598455667495728\n",
      "Step: 8000 | total: 3.13791561126709, style: 0.08593402802944183, quality: 0.5598949193954468\n",
      "Step: 8500 | total: 3.1379055976867676, style: 0.08593212068080902, quality: 0.5599420666694641\n",
      "Step: 9000 | total: 3.1379079818725586, style: 0.08593233674764633, quality: 0.5599378347396851\n",
      "Step: 9500 | total: 3.137911558151245, style: 0.08593249320983887, quality: 0.5599367022514343\n",
      "Step: 10000 | total: 3.1379168033599854, style: 0.08593525737524033, quality: 0.5598589777946472\n",
      "Step: 10500 | total: 3.137913942337036, style: 0.0859329104423523, quality: 0.5599268078804016\n",
      "Step: 11000 | total: 3.1378064155578613, style: 0.08595006912946701, quality: 0.5593041777610779\n",
      "Step: 11500 | total: 3.137784719467163, style: 0.08594375103712082, quality: 0.5594721436500549\n",
      "Step: 12000 | total: 3.1377902030944824, style: 0.0859452560544014, quality: 0.5594323873519897\n",
      "Step: 12500 | total: 3.137786626815796, style: 0.08594543486833572, quality: 0.5594236850738525\n",
      "Step: 13000 | total: 3.137791156768799, style: 0.08594554662704468, quality: 0.5594248175621033\n",
      "Step: 13500 | total: 3.1377902030944824, style: 0.0859452560544014, quality: 0.5594324469566345\n",
      "Step: 14000 | total: 3.1377882957458496, style: 0.08594387769699097, quality: 0.5594720244407654\n",
      "Step: 14500 | total: 3.1377904415130615, style: 0.08594505488872528, quality: 0.5594387650489807\n",
      "Step: 15000 | total: 3.1377968788146973, style: 0.0859445109963417, quality: 0.5594616532325745\n",
      "Total time: 156.1\n",
      "Голос 4 не поддается стилизации\n",
      "Голос 5 не поддается стилизации\n"
     ]
    }
   ],
   "source": [
    "from music_generation import PerformerWrapper\n",
    "\n",
    "merged_mid_styled = PerformerWrapper(STYLE_PERFORMER, MIDI_STYLE).stylize(mono_mid, voice_count)\n",
    "merged_mid_styled.save(result_path / f\"{filename}.mid\")"
   ]
  },
  {
   "cell_type": "markdown",
   "id": "352e3988-d696-4f6d-81d1-7373875aa0d5",
   "metadata": {},
   "source": [
    "### 2.5 MP3"
   ]
  },
  {
   "cell_type": "code",
   "execution_count": 11,
   "id": "4a3eec5a-775f-4cc6-8a03-8ec8fe608ab1",
   "metadata": {},
   "outputs": [],
   "source": [
    "from music_generation import MidiToMp3Converter\n",
    "\n",
    "# Настройка темпа при генерации mp3 (выполняется в timidity)\n",
    "TEMPO = 40\n",
    "\n",
    "# Настройка длительности mp3 (максимальное время звучания в секундах). Оставшаяся часть midi в аудио не входит\n",
    "MAX_DURATION = 240\n",
    "\n",
    "midi_to_mp3 = MidiToMp3Converter(SOURCE_PATH / \"midi2mp3.sh\", TEMPO, MAX_DURATION)"
   ]
  },
  {
   "cell_type": "code",
   "execution_count": 16,
   "id": "45654c44-372f-48b2-8da2-93da698a2b02",
   "metadata": {},
   "outputs": [
    {
     "name": "stderr",
     "output_type": "stream",
     "text": [
      "Playing /data/iu_home/iu6042/popov-music/results/random_L3_22.12.2023-00:01:45_C_major_r2.1/result.mid\n",
      "MIDI file: /data/iu_home/iu6042/popov-music/results/random_L3_22.12.2023-00:01:45_C_major_r2.1/result.mid\n",
      "Format: 1  Tracks: 1  Divisions: 120\n",
      "Sequence: Acoustic Grand Piano\n",
      "Warning: -: Illegal seek: Can't make valid header\n",
      "Terminated sig=0x0d\n"
     ]
    }
   ],
   "source": [
    "# Синтезировать звук фортепианного исполнения через Timidity\n",
    "midi_to_mp3.convert(\"timidity_piano.cfg\", result_path / f\"{filename}.mid\", result_path / f\"{filename}_pianoforte.mp3\")"
   ]
  },
  {
   "cell_type": "code",
   "execution_count": 17,
   "id": "26dd9e99-331c-455e-8010-392bf87d1763",
   "metadata": {},
   "outputs": [],
   "source": [
    "import numpy as np\n",
    "from music_generation import apply_instruments_table\n",
    "\n",
    "instruments_table = np.matrix([  # TODO: убрать использование numpy\n",
    "    # \"Название инструмента\", \"Номер канала\", \"Нижняя граница\", \"Верхняя граница\"\n",
    "    ['Guitar', 1, 40, 60],\n",
    "    ['Ahh', 2, 56, 84],\n",
    "    ['Violins', 3, 72, 120]\n",
    "])"
   ]
  },
  {
   "cell_type": "code",
   "execution_count": 18,
   "id": "9de54f37-9355-4574-8f58-0977309e161a",
   "metadata": {},
   "outputs": [
    {
     "name": "stdout",
     "output_type": "stream",
     "text": [
      "Instruments:\n",
      "\t Guitar\n",
      "\t Ahh\n",
      "\t Violins\n"
     ]
    },
    {
     "name": "stderr",
     "output_type": "stream",
     "text": [
      "Playing /data/iu_home/iu6042/popov-music/results/random_L3_22.12.2023-00:01:45_C_major_r2.1/result_styled.mid\n",
      "MIDI file: /data/iu_home/iu6042/popov-music/results/random_L3_22.12.2023-00:01:45_C_major_r2.1/result_styled.mid\n",
      "Format: 1  Tracks: 3  Divisions: 120\n",
      "Sequence: Guitar\n",
      "Track name: Ahh\n",
      "Track name: Violins\n",
      "Warning: -: Illegal seek: Can't make valid header\n",
      "Terminated sig=0x0d\n"
     ]
    }
   ],
   "source": [
    "# Синтезировать звук через Timidity\n",
    "apply_instruments_table(instruments_table, merged_mid_styled).save(result_path / f\"{filename}_styled.mid\")\n",
    "midi_to_mp3.convert(\"timidity.cfg\", result_path / f\"{filename}_styled.mid\", result_path / f\"{filename}_styled.mp3\")"
   ]
  },
  {
   "cell_type": "code",
   "execution_count": 19,
   "id": "3e6aca6a-883e-4245-8e15-0cbd1b9738c8",
   "metadata": {},
   "outputs": [
    {
     "name": "stdout",
     "output_type": "stream",
     "text": [
      "Instruments:\n",
      "\t Guitar\n",
      "\t Ahh\n",
      "\t Violins\n"
     ]
    },
    {
     "name": "stderr",
     "output_type": "stream",
     "text": [
      "Playing /data/iu_home/iu6042/popov-music/results/random_L3_22.12.2023-00:01:45_C_major_r2.1/result_origin.mid\n",
      "MIDI file: /data/iu_home/iu6042/popov-music/results/random_L3_22.12.2023-00:01:45_C_major_r2.1/result_origin.mid\n",
      "Format: 1  Tracks: 3  Divisions: 120\n",
      "Sequence: Guitar\n",
      "Track name: Ahh\n",
      "Track name: Violins\n",
      "Warning: -: Illegal seek: Can't make valid header\n",
      "Terminated sig=0x0d\n"
     ]
    }
   ],
   "source": [
    "# Для сравнения, синтезировать звук через Timidity для origin\n",
    "apply_instruments_table(instruments_table, origin_mid).save(result_path / f\"{filename}_origin.mid\")\n",
    "midi_to_mp3.convert(\"timidity.cfg\", result_path / f\"{filename}_origin.mid\", result_path / f\"{filename}_origin.mp3\")"
   ]
  },
  {
   "cell_type": "markdown",
   "id": "3fdbd475-4075-4107-829e-16bfce80be1b",
   "metadata": {},
   "source": [
    "# 3 Результаты работы"
   ]
  },
  {
   "cell_type": "code",
   "execution_count": null,
   "id": "f1f563e6-9a52-463e-9988-329e6dfcb134",
   "metadata": {},
   "outputs": [],
   "source": [
    "from IPython import display"
   ]
  },
  {
   "cell_type": "markdown",
   "id": "dff5091d-7b84-411a-a82e-1d919275217c",
   "metadata": {},
   "source": [
    "## 3.1 Фортепианное исполнение"
   ]
  },
  {
   "cell_type": "code",
   "execution_count": null,
   "id": "49dbd04b-ed33-4019-9519-7f279f9520b8",
   "metadata": {},
   "outputs": [],
   "source": [
    "display.Audio(filename=result_path / f\"{filename}_pianoforte.mp3\", autoplay=False)"
   ]
  },
  {
   "cell_type": "markdown",
   "id": "f8eda1e4-f77b-497b-839a-443a9daaecef",
   "metadata": {},
   "source": [
    "## 3.2 Оркестровое исполнение со стилизацией"
   ]
  },
  {
   "cell_type": "code",
   "execution_count": null,
   "id": "59ab43e4-6671-47a9-90a3-e8abe8490348",
   "metadata": {},
   "outputs": [],
   "source": [
    "display.Audio(filename=result_path / f\"{filename}_styled.mp3\", autoplay=False)"
   ]
  },
  {
   "cell_type": "markdown",
   "id": "3e8c9774-fabf-4e0a-80ce-38ed0def85f9",
   "metadata": {},
   "source": [
    "### 3.3 Оригинальное оркестровое исполнение без стилизации"
   ]
  },
  {
   "cell_type": "code",
   "execution_count": null,
   "id": "a7476e74-c7c9-481b-8c45-3c058890bb46",
   "metadata": {},
   "outputs": [],
   "source": [
    "display.Audio(filename=result_path / f\"{filename}_origin.mp3\", autoplay=False)"
   ]
  }
 ],
 "metadata": {
  "kernelspec": {
   "display_name": "Python 3 (ipykernel)",
   "language": "python",
   "name": "python3"
  },
  "language_info": {
   "codemirror_mode": {
    "name": "ipython",
    "version": 3
   },
   "file_extension": ".py",
   "mimetype": "text/x-python",
   "name": "python",
   "nbconvert_exporter": "python",
   "pygments_lexer": "ipython3",
   "version": "3.10.12"
  }
 },
 "nbformat": 4,
 "nbformat_minor": 5
}
