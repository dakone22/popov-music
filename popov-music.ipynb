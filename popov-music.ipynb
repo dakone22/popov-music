{
 "cells": [
  {
   "cell_type": "markdown",
   "id": "b859fe1cfdd94818",
   "metadata": {
    "collapsed": false
   },
   "source": [
    "# Делаем музыку"
   ]
  },
  {
   "cell_type": "code",
   "execution_count": 1,
   "id": "74ce3ba00694d38f",
   "metadata": {
    "ExecuteTime": {
     "end_time": "2023-12-19T20:56:52.706773162Z",
     "start_time": "2023-12-19T20:56:51.266617459Z"
    },
    "collapsed": false
   },
   "outputs": [],
   "source": [
    "from pathlib import Path\n",
    "\n",
    "# Путь к проекту\n",
    "SOURCE_PATH = Path().absolute()\n",
    "# Отладочные сообщения: True - печатать сообщения; False - не печатать\n",
    "DEBUG = False\n",
    "# терминатор - это сочетание 0xE и 0xF для графа де Брюйна с кол-вом брейков (концов записи аккорд) = L-1 (символ 0xE - старт записи вершины; символ 0xF = break).\n",
    "TERMINATOR = 0"
   ]
  },
  {
   "cell_type": "markdown",
   "id": "fa655371-791d-4c9c-b090-ba6f9a13337f",
   "metadata": {
    "ExecuteTime": {
     "end_time": "2023-12-19T20:56:52.706773162Z",
     "start_time": "2023-12-19T20:56:51.266617459Z"
    },
    "collapsed": false
   },
   "source": [
    "## 1 Генерируем графы"
   ]
  },
  {
   "cell_type": "markdown",
   "id": "857ab098-cf20-421b-9421-34688528b7a5",
   "metadata": {
    "ExecuteTime": {
     "end_time": "2023-12-19T20:56:52.706773162Z",
     "start_time": "2023-12-19T20:56:51.266617459Z"
    },
    "collapsed": false
   },
   "source": [
    "### 1.1 Пути"
   ]
  },
  {
   "cell_type": "code",
   "execution_count": 2,
   "id": "ca35ada09653e0c",
   "metadata": {
    "ExecuteTime": {
     "end_time": "2023-12-19T20:59:54.014608452Z",
     "start_time": "2023-12-19T20:59:53.922988742Z"
    },
    "collapsed": false
   },
   "outputs": [],
   "source": [
    "# Путь к директории с исходными миди\n",
    "SOURCE_MIDI_FOLDER = SOURCE_PATH / \"data\" / \"midi_sources\"\n",
    "\n",
    "# Путь к директории с результатами: графами де Брюйна\n",
    "PCL_RESULT_FOLDER = SOURCE_PATH / \"data\" / \"midi_results\"\n",
    "\n",
    "# Словарь вершин графа в формате: индекс вершины, полученный как crc32 аккордов | код вершины\n",
    "VERTEX_DICTIONARY_PATH = PCL_RESULT_FOLDER / \"dictionary.pcl\""
   ]
  },
  {
   "cell_type": "markdown",
   "id": "6564b2d6-b8a7-43cb-8cc8-22ad9cc8edb4",
   "metadata": {
    "ExecuteTime": {
     "end_time": "2023-12-19T20:59:54.014608452Z",
     "start_time": "2023-12-19T20:59:53.922988742Z"
    },
    "collapsed": false
   },
   "source": [
    "### 1.2 Настройка"
   ]
  },
  {
   "cell_type": "code",
   "execution_count": 3,
   "id": "56d78599-4748-4bc1-9e42-e6a255803db8",
   "metadata": {
    "ExecuteTime": {
     "end_time": "2023-12-19T20:59:54.014608452Z",
     "start_time": "2023-12-19T20:59:53.922988742Z"
    },
    "collapsed": false
   },
   "outputs": [
    {
     "name": "stdout",
     "output_type": "stream",
     "text": [
      "Create dictionary file /data/iu_home/iu6042/popov-misoc/data/midi_results/dictionary.pcl\n"
     ]
    }
   ],
   "source": [
    "from chord_processing import ChordProcessor\n",
    "from midi_processing import MidiProcessor\n",
    "\n",
    "# Настройка графа Де Брюйна (параметр L - количество аккордов для кода вершины)\n",
    "L = 3\n",
    "\n",
    "chord_processor = ChordProcessor(L, TERMINATOR, debug=DEBUG)\n",
    "midi_processor = MidiProcessor(chord_processor, VERTEX_DICTIONARY_PATH)"
   ]
  },
  {
   "cell_type": "markdown",
   "id": "d82c89054bf83cf1",
   "metadata": {
    "collapsed": false
   },
   "source": [
    "### 1.3 Выбираем midi-файлы и обрабатываем"
   ]
  },
  {
   "cell_type": "code",
   "execution_count": 4,
   "id": "4a69164adee86f37",
   "metadata": {
    "ExecuteTime": {
     "end_time": "2023-12-21T15:21:58.914527611Z",
     "start_time": "2023-12-21T15:21:57.891680366Z"
    },
    "collapsed": false
   },
   "outputs": [
    {
     "name": "stdout",
     "output_type": "stream",
     "text": [
      "Файлы для обработки: [PosixPath('/data/iu_home/iu6042/popov-misoc/data/midi_sources/Skyrim The Song of the Dragonborn.mid'), PosixPath('/data/iu_home/iu6042/popov-misoc/data/midi_sources/Rush E.mid'), PosixPath('/data/iu_home/iu6042/popov-misoc/data/midi_sources/This Game - No Game No Life OP.mid'), PosixPath('/data/iu_home/iu6042/popov-misoc/data/midi_sources/Sergey Eybog - Everlasting Summer.mid')]\n",
      "Converting file #0: /data/iu_home/iu6042/popov-misoc/data/midi_sources/Skyrim The Song of the Dragonborn.mid\n",
      "Converting file #1: /data/iu_home/iu6042/popov-misoc/data/midi_sources/Rush E.mid\n",
      "Converting file #2: /data/iu_home/iu6042/popov-misoc/data/midi_sources/This Game - No Game No Life OP.mid\n",
      "Converting file #3: /data/iu_home/iu6042/popov-misoc/data/midi_sources/Sergey Eybog - Everlasting Summer.mid\n",
      "Write to file #3 : /data/iu_home/iu6042/popov-misoc/data/midi_results/Sergey Eybog - Everlasting Summer_A-_major.pcl3\n",
      "Write to file #0 : /data/iu_home/iu6042/popov-misoc/data/midi_results/Skyrim The Song of the Dragonborn_B_minor.pcl3\n",
      "Write to file #2 : /data/iu_home/iu6042/popov-misoc/data/midi_results/This Game - No Game No Life OP_E_minor.pcl3\n",
      "Write to file #1 : /data/iu_home/iu6042/popov-misoc/data/midi_results/Rush E_A_minor.pcl3\n"
     ]
    }
   ],
   "source": [
    "from midi_processing import get_filtered_files\n",
    "\n",
    "# Файлы для обработки\n",
    "midi_files: list[Path] = get_filtered_files(SOURCE_MIDI_FOLDER, '*.mid')\n",
    "print(f\"Файлы для обработки: {midi_files}\")\n",
    "\n",
    "# Обрабатываем файлы\n",
    "midi_processor.process(midi_files, PCL_RESULT_FOLDER)"
   ]
  },
  {
   "cell_type": "markdown",
   "id": "40dabf0d2e5d1d8c",
   "metadata": {
    "collapsed": false
   },
   "source": [
    "## 2 Генерируем музыку"
   ]
  },
  {
   "cell_type": "markdown",
   "id": "af344d01-0add-4580-b151-f29c65130ddc",
   "metadata": {
    "collapsed": false
   },
   "source": [
    "### 2.1 Чтение графа"
   ]
  },
  {
   "cell_type": "code",
   "execution_count": 5,
   "id": "d7cddd02290d399f",
   "metadata": {
    "ExecuteTime": {
     "end_time": "2023-12-21T15:22:35.635785512Z",
     "start_time": "2023-12-21T15:22:35.586719049Z"
    },
    "collapsed": false
   },
   "outputs": [],
   "source": [
    "# Путь к хранилищу графов\n",
    "# GRAPH_SOURCES = Path(\"/data/hackathon2023/pcl\")\n",
    "# PCL_PATH = GRAPH_SOURCES / \"PianoChords_dst_l5_concatenated\" #168K цепочек аккордов\n",
    "# PCL_PATH = GRAPH_SOURCES / \"WorldMusic_dst_l5_concatenated\" #116K произведений\n",
    "PCL_PATH = PCL_RESULT_FOLDER  # Path(\"/data/iu_home/iu6042/lab6/data/midi_results\")\n",
    "assert PCL_PATH.exists()"
   ]
  },
  {
   "cell_type": "code",
   "execution_count": 6,
   "id": "d3a15372-e544-494f-8475-e043df76447f",
   "metadata": {
    "ExecuteTime": {
     "end_time": "2023-12-21T15:22:35.635785512Z",
     "start_time": "2023-12-21T15:22:35.586719049Z"
    },
    "collapsed": false
   },
   "outputs": [
    {
     "name": "stdout",
     "output_type": "stream",
     "text": [
      "Количество ребер в графе ДеБрюйна: 2693\n"
     ]
    }
   ],
   "source": [
    "from music_generation import combine_pickle_files, get_files_with_params\n",
    "\n",
    "L = 3\n",
    "TONALITY = \"C_major\"  # TODO: tonality select ?\n",
    "\n",
    "# Объединим графы деБрюйна\n",
    "files = get_files_with_params(PCL_PATH, TONALITY, L)\n",
    "df = combine_pickle_files(files)\n",
    "\n",
    "print(f\"Количество ребер в графе ДеБрюйна: {len(df)}\")"
   ]
  },
  {
   "cell_type": "markdown",
   "id": "6126c2ee-d4bd-4cd0-80ef-789022fe8b0c",
   "metadata": {},
   "source": [
    "### 2.2 Использем GPC "
   ]
  },
  {
   "cell_type": "code",
   "execution_count": 7,
   "id": "cffa51827a3b508d",
   "metadata": {
    "collapsed": false
   },
   "outputs": [],
   "source": [
    "from music_generation import GPCWrapper\n",
    "\n",
    "SW_KERNEL_PATH = SOURCE_PATH / \"lab7\" / \"sw-kernel\" / \"sw_kernel.rawbinary\"\n",
    "HANDLERS_PATH = SOURCE_PATH / \"lab7\" / \"include\" / \"gpc_handlers.h\"\n",
    "\n",
    "generator = GPCWrapper(SW_KERNEL_PATH, HANDLERS_PATH, TERMINATOR)"
   ]
  },
  {
   "cell_type": "code",
   "execution_count": 8,
   "id": "178ef5f5-eb6f-48de-9952-91f4561c9379",
   "metadata": {},
   "outputs": [
    {
     "name": "stdout",
     "output_type": "stream",
     "text": [
      "/dev/gpc2\n",
      "{'insert_edges': 16, 'get_vertex_data': 17, 'get_first_vertex': 18, 'get_next_vertex': 19, 'get_random_vertices': 20}\n",
      "Обход графа ДеБрюйна завершен, среднее количество ребер: 2.1\n"
     ]
    }
   ],
   "source": [
    "# Максимальное количество голосов для стилистической обработки\n",
    "MAX_VOICE_COUNT = 128\n",
    "\n",
    "# Количество пройденных вершин графа ДеБрюйна (длинна произведения)\n",
    "CHORD_COUNT = 2000\n",
    "\n",
    "\n",
    "edges_count, origin_mid, mono_mid = generator.run(df, CHORD_COUNT, MAX_VOICE_COUNT)\n",
    "\n",
    "# Выводим информацию о среднем количестве ребер\n",
    "randomnicity = f\"{edges_count / CHORD_COUNT:.1f}\"\n",
    "print(\"Обход графа ДеБрюйна завершен, среднее количество ребер: \" + randomnicity)"
   ]
  },
  {
   "cell_type": "markdown",
   "id": "3381c3df-302a-47d7-b206-2774db6969c8",
   "metadata": {},
   "source": [
    "### 2.3 Настройки сохранения"
   ]
  },
  {
   "cell_type": "code",
   "execution_count": 9,
   "id": "d3b1b5c5-aa1c-45c9-8dba-d4f31b1a1dfd",
   "metadata": {},
   "outputs": [],
   "source": [
    "from os import system as execute_command\n",
    "from datetime import datetime\n",
    "\n",
    "# Путь к директории с результирующим миди\n",
    "RESULT_PATH = SOURCE_PATH / \"results\"\n",
    "\n",
    "# Имя результирующего файла\n",
    "date_time = datetime.now().strftime(\"%d.%m.%Y-%H:%M:%S\")\n",
    "\n",
    "# Создадим директорию для разделения результата на моноголосные партии\n",
    "result_path = RESULT_PATH / f\"random_L{L}_{date_time}_{TONALITY}_r{randomnicity}\"\n",
    "execute_command(f\"mkdir -p {result_path}\")\n",
    "\n",
    "filename = \"result\""
   ]
  },
  {
   "cell_type": "markdown",
   "id": "372646e9-3682-46e3-bcaf-2f434fc9f85f",
   "metadata": {},
   "source": [
    "### 2.4 Стилизация"
   ]
  },
  {
   "cell_type": "code",
   "execution_count": 10,
   "id": "d491778d-b3f6-4a05-88d6-bd80b34c5352",
   "metadata": {},
   "outputs": [],
   "source": [
    "# Стилизатор  # Бакалаврский проект Петра Шумнова & ИУ7 (All rights reserved) - https://github.com/MrShumnov/music-style-performer\n",
    "# Путь к стилизатору\n",
    "STYLE_PERFORMER = Path(\"/data/hackathon2023/music-style-performer\")\n",
    "# Путь к образцу стиля исполнения\n",
    "STYLES_PATH = STYLE_PERFORMER / \"styles\"\n",
    "\n",
    "MIDI_STYLE = STYLES_PATH / \"debussy_prelude.mid\"  # файл со стилем, переносимым на произведение/ Дебюсси - импрессионист, близко к джазовой импровизации\n",
    "# MIDI_STYLE = STYLES_PATH / \"scrjabin.mid\"       # файл со стилем, переносимым на произведение/ Классика, романтизм, эмоциональный окрас\n",
    "# MIDI_STYLE = STYLES_PATH / \"rachmaninoff.mid\"   # файл со стилем, переносимым на произведение/ Рахманинов - русская классика, широко и эмоционально\n"
   ]
  },
  {
   "cell_type": "code",
   "execution_count": null,
   "id": "b048b96f-bdaf-446c-819d-4fe735637c1d",
   "metadata": {},
   "outputs": [
    {
     "name": "stdout",
     "output_type": "stream",
     "text": [
      "Стилизация голоса 1 из 128\n",
      "Start training\n",
      "Step: 500 | total: 5.429840087890625, style: 0.1545182317495346, quality: 0.794292688369751\n",
      "Step: 1000 | total: 5.006069183349609, style: 0.14245082437992096, quality: 0.7325444221496582\n"
     ]
    }
   ],
   "source": [
    "from music_generation import PerformerWrapper\n",
    "\n",
    "merged_mid_styled = PerformerWrapper(STYLE_PERFORMER, MIDI_STYLE).stylize(mono_mid)\n",
    "merged_mid_styled.save(result_path / f\"{filename}.mid\")"
   ]
  },
  {
   "cell_type": "markdown",
   "id": "352e3988-d696-4f6d-81d1-7373875aa0d5",
   "metadata": {},
   "source": [
    "### 2.5 MP3"
   ]
  },
  {
   "cell_type": "code",
   "execution_count": null,
   "id": "4a3eec5a-775f-4cc6-8a03-8ec8fe608ab1",
   "metadata": {},
   "outputs": [],
   "source": [
    "from music_generation import MidiToMp3Converter\n",
    "\n",
    "# Настройка темпа при генерации mp3 (выполняется в timidity)\n",
    "TEMPO = 40\n",
    "\n",
    "# Настройка длительности mp3 (максимальное время звучания в секундах). Оставшаяся часть midi в аудио не входит\n",
    "MAX_DURATION = 240\n",
    "\n",
    "midi_to_mp3 = MidiToMp3Converter(SOURCE_PATH / \"midi2mp3.sh\", TEMPO, MAX_DURATION)"
   ]
  },
  {
   "cell_type": "code",
   "execution_count": null,
   "id": "45654c44-372f-48b2-8da2-93da698a2b02",
   "metadata": {},
   "outputs": [],
   "source": [
    "# Синтезировать звук фортепианного исполнения через Timidity\n",
    "midi_to_mp3.convert(\"timidity_piano.cfg\", result_path / f\"{filename}.mid\", result_path / f\"{filename}_pianoforte.mp3\")"
   ]
  },
  {
   "cell_type": "code",
   "execution_count": null,
   "id": "26dd9e99-331c-455e-8010-392bf87d1763",
   "metadata": {},
   "outputs": [],
   "source": [
    "import numpy as np\n",
    "from music_generation import apply_instruments_table\n",
    "\n",
    "instruments_table = np.matrix([\n",
    "    # \"Название инструмента\", \"Номер канала\", \"Нижняя граница\", \"Верхняя граница\"\n",
    "    ['Guitar', 1, 40, 60],\n",
    "    ['Ahh', 2, 56, 84],\n",
    "    ['Violins', 3, 72, 120]\n",
    "])"
   ]
  },
  {
   "cell_type": "code",
   "execution_count": null,
   "id": "9de54f37-9355-4574-8f58-0977309e161a",
   "metadata": {},
   "outputs": [],
   "source": [
    "# Синтезировать звук через Timidity\n",
    "apply_instruments_table(instruments_table, merged_mid_styled).save(result_path / f\"{filename}_styled.mid\")\n",
    "midi_to_mp3.convert(\"timidity.cfg\", result_path / f\"{filename}_styled.mid\", result_path / f\"{filename}_styled.mp3\")"
   ]
  },
  {
   "cell_type": "code",
   "execution_count": null,
   "id": "3e6aca6a-883e-4245-8e15-0cbd1b9738c8",
   "metadata": {},
   "outputs": [],
   "source": [
    "# Для сравнения, синтезировать звук через Timidity для origin\n",
    "apply_instruments_table(instruments_table, origin_mid).save(result_path / f\"{filename}_origin.mid\")\n",
    "midi_to_mp3.convert(\"timidity.cfg\", result_path / f\"{filename}_origin.mid\", result_path / f\"{filename}_origin.mp3\")"
   ]
  },
  {
   "cell_type": "code",
   "execution_count": null,
   "id": "f39cde1a-b1c7-4e2b-9b60-555174d1808e",
   "metadata": {},
   "outputs": [],
   "source": []
  },
  {
   "cell_type": "code",
   "execution_count": null,
   "id": "f1f563e6-9a52-463e-9988-329e6dfcb134",
   "metadata": {},
   "outputs": [],
   "source": []
  }
 ],
 "metadata": {
  "kernelspec": {
   "display_name": "Python 3 (ipykernel)",
   "language": "python",
   "name": "python3"
  },
  "language_info": {
   "codemirror_mode": {
    "name": "ipython",
    "version": 3
   },
   "file_extension": ".py",
   "mimetype": "text/x-python",
   "name": "python",
   "nbconvert_exporter": "python",
   "pygments_lexer": "ipython3",
   "version": "3.10.12"
  }
 },
 "nbformat": 4,
 "nbformat_minor": 5
}
