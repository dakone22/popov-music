{
 "cells": [
  {
   "cell_type": "markdown",
   "id": "b859fe1cfdd94818",
   "metadata": {
    "collapsed": false,
    "jupyter": {
     "outputs_hidden": false
    }
   },
   "source": [
    "# Делаем музыку"
   ]
  },
  {
   "cell_type": "code",
   "execution_count": 1,
   "id": "74ce3ba00694d38f",
   "metadata": {
    "ExecuteTime": {
     "end_time": "2023-12-19T20:56:52.706773162Z",
     "start_time": "2023-12-19T20:56:51.266617459Z"
    },
    "collapsed": false,
    "jupyter": {
     "outputs_hidden": false
    }
   },
   "outputs": [],
   "source": [
    "from pathlib import Path\n",
    "\n",
    "# Путь к проекту\n",
    "SOURCE_PATH = Path().absolute()\n",
    "# Отладочные сообщения: True - печатать сообщения; False - не печатать\n",
    "DEBUG = False\n",
    "# терминатор - это сочетание 0xE и 0xF для графа де Брюйна с кол-вом брейков (концов записи аккорд) = L-1 (символ 0xE - старт записи вершины; символ 0xF = break).\n",
    "TERMINATOR = 0"
   ]
  },
  {
   "cell_type": "markdown",
   "id": "fa655371-791d-4c9c-b090-ba6f9a13337f",
   "metadata": {
    "ExecuteTime": {
     "end_time": "2023-12-19T20:56:52.706773162Z",
     "start_time": "2023-12-19T20:56:51.266617459Z"
    },
    "collapsed": false,
    "jupyter": {
     "outputs_hidden": false
    }
   },
   "source": [
    "## 1 Генерируем графы"
   ]
  },
  {
   "cell_type": "markdown",
   "id": "857ab098-cf20-421b-9421-34688528b7a5",
   "metadata": {
    "ExecuteTime": {
     "end_time": "2023-12-19T20:56:52.706773162Z",
     "start_time": "2023-12-19T20:56:51.266617459Z"
    },
    "collapsed": false,
    "jupyter": {
     "outputs_hidden": false
    }
   },
   "source": [
    "### 1.1 Пути"
   ]
  },
  {
   "cell_type": "code",
   "execution_count": 2,
   "id": "ca35ada09653e0c",
   "metadata": {
    "ExecuteTime": {
     "end_time": "2023-12-19T20:59:54.014608452Z",
     "start_time": "2023-12-19T20:59:53.922988742Z"
    },
    "collapsed": false,
    "jupyter": {
     "outputs_hidden": false
    }
   },
   "outputs": [],
   "source": [
    "# Путь к директории с исходными миди\n",
    "SOURCE_MIDI_FOLDER = SOURCE_PATH / \"data\" / \"midi_sources\"\n",
    "\n",
    "# Путь к директории с результатами: графами де Брюйна\n",
    "PCL_RESULT_FOLDER = SOURCE_PATH / \"data\" / \"midi_results\"\n",
    "\n",
    "# Словарь вершин графа в формате: индекс вершины, полученный как crc32 аккордов | код вершины\n",
    "VERTEX_DICTIONARY_PATH = PCL_RESULT_FOLDER / \"dictionary.pcl\""
   ]
  },
  {
   "cell_type": "markdown",
   "id": "6564b2d6-b8a7-43cb-8cc8-22ad9cc8edb4",
   "metadata": {
    "ExecuteTime": {
     "end_time": "2023-12-19T20:59:54.014608452Z",
     "start_time": "2023-12-19T20:59:53.922988742Z"
    },
    "collapsed": false,
    "jupyter": {
     "outputs_hidden": false
    }
   },
   "source": [
    "### 1.2 Настройка"
   ]
  },
  {
   "cell_type": "code",
   "execution_count": 3,
   "id": "56d78599-4748-4bc1-9e42-e6a255803db8",
   "metadata": {
    "ExecuteTime": {
     "end_time": "2023-12-19T20:59:54.014608452Z",
     "start_time": "2023-12-19T20:59:53.922988742Z"
    },
    "collapsed": false,
    "jupyter": {
     "outputs_hidden": false
    }
   },
   "outputs": [],
   "source": [
    "from chord_processing import ChordProcessor\n",
    "from midi_processing import MidiProcessor\n",
    "\n",
    "# Настройка графа Де Брюйна (параметр L - количество аккордов для кода вершины)\n",
    "L = 3\n",
    "\n",
    "chord_processor = ChordProcessor(L, TERMINATOR, debug=DEBUG)\n",
    "midi_processor = MidiProcessor(chord_processor, VERTEX_DICTIONARY_PATH)"
   ]
  },
  {
   "cell_type": "markdown",
   "id": "d82c89054bf83cf1",
   "metadata": {
    "collapsed": false,
    "jupyter": {
     "outputs_hidden": false
    }
   },
   "source": [
    "### 1.3 Выбираем midi-файлы и обрабатываем"
   ]
  },
  {
   "cell_type": "code",
   "execution_count": null,
   "id": "4a69164adee86f37",
   "metadata": {
    "ExecuteTime": {
     "end_time": "2023-12-21T15:21:58.914527611Z",
     "start_time": "2023-12-21T15:21:57.891680366Z"
    },
    "collapsed": false,
    "jupyter": {
     "outputs_hidden": false
    }
   },
   "outputs": [],
   "source": [
    "from midi_processing import get_filtered_files\n",
    "\n",
    "# Файлы для обработки\n",
    "midi_files: list[Path] = get_filtered_files(SOURCE_MIDI_FOLDER, '*.mid')\n",
    "print(f\"Файлы для обработки: {midi_files}\")\n",
    "\n",
    "# Обрабатываем файлы\n",
    "midi_processor.process(midi_files, PCL_RESULT_FOLDER)"
   ]
  },
  {
   "cell_type": "markdown",
   "id": "40dabf0d2e5d1d8c",
   "metadata": {
    "collapsed": false,
    "jupyter": {
     "outputs_hidden": false
    }
   },
   "source": [
    "## 2 Генерируем музыку"
   ]
  },
  {
   "cell_type": "markdown",
   "id": "af344d01-0add-4580-b151-f29c65130ddc",
   "metadata": {
    "collapsed": false,
    "jupyter": {
     "outputs_hidden": false
    }
   },
   "source": [
    "### 2.1 Чтение графа"
   ]
  },
  {
   "cell_type": "code",
   "execution_count": 4,
   "id": "d7cddd02290d399f",
   "metadata": {
    "ExecuteTime": {
     "end_time": "2023-12-21T15:22:35.635785512Z",
     "start_time": "2023-12-21T15:22:35.586719049Z"
    },
    "collapsed": false,
    "jupyter": {
     "outputs_hidden": false
    }
   },
   "outputs": [],
   "source": [
    "# Путь к хранилищу графов\n",
    "# GRAPH_SOURCES = Path(\"/data/hackathon2023/pcl\")\n",
    "# PCL_PATH = GRAPH_SOURCES / \"PianoChords_dst_l5_concatenated\" #168K цепочек аккордов\n",
    "# PCL_PATH = GRAPH_SOURCES / \"WorldMusic_dst_l5_concatenated\" #116K произведений\n",
    "PCL_PATH = PCL_RESULT_FOLDER  # Path(\"/data/iu_home/iu6042/lab6/data/midi_results\")\n",
    "assert PCL_PATH.exists()"
   ]
  },
  {
   "cell_type": "code",
   "execution_count": 5,
   "id": "d3a15372-e544-494f-8475-e043df76447f",
   "metadata": {
    "ExecuteTime": {
     "end_time": "2023-12-21T15:22:35.635785512Z",
     "start_time": "2023-12-21T15:22:35.586719049Z"
    },
    "collapsed": false,
    "jupyter": {
     "outputs_hidden": false
    }
   },
   "outputs": [
    {
     "name": "stdout",
     "output_type": "stream",
     "text": [
      "Количество ребер в графе ДеБрюйна: 2693\n"
     ]
    }
   ],
   "source": [
    "from music_generation import combine_pickle_files, get_files_with_params\n",
    "\n",
    "L = 3\n",
    "TONALITY = \"C_major\"  # TODO: tonality select ?\n",
    "\n",
    "# Объединим графы деБрюйна\n",
    "files = get_files_with_params(PCL_PATH, TONALITY, L)\n",
    "df = combine_pickle_files(files)\n",
    "\n",
    "print(f\"Количество ребер в графе ДеБрюйна: {len(df)}\")"
   ]
  },
  {
   "cell_type": "markdown",
   "id": "6126c2ee-d4bd-4cd0-80ef-789022fe8b0c",
   "metadata": {},
   "source": [
    "### 2.2 Использем GPC "
   ]
  },
  {
   "cell_type": "code",
   "execution_count": 6,
   "id": "cffa51827a3b508d",
   "metadata": {
    "collapsed": false,
    "jupyter": {
     "outputs_hidden": false
    }
   },
   "outputs": [],
   "source": [
    "from music_generation import GPCWrapper\n",
    "\n",
    "SW_KERNEL_PATH = SOURCE_PATH / \"lab7\" / \"sw-kernel\" / \"sw_kernel.rawbinary\"\n",
    "HANDLERS_PATH = SOURCE_PATH / \"lab7\" / \"include\" / \"gpc_handlers.h\"\n",
    "\n",
    "generator = GPCWrapper(SW_KERNEL_PATH, HANDLERS_PATH, TERMINATOR)"
   ]
  },
  {
   "cell_type": "code",
   "execution_count": 7,
   "id": "178ef5f5-eb6f-48de-9952-91f4561c9379",
   "metadata": {},
   "outputs": [
    {
     "name": "stdout",
     "output_type": "stream",
     "text": [
      "/dev/gpc2\n",
      "{'insert_edges': 16, 'get_vertex_data': 17, 'get_first_vertex': 18, 'get_next_vertex': 19, 'get_random_vertices': 20}\n",
      "Обход графа ДеБрюйна завершен, среднее количество ребер: 2.2\n"
     ]
    }
   ],
   "source": [
    "# Максимальное количество голосов для стилистической обработки\n",
    "MAX_VOICE_COUNT = 128\n",
    "\n",
    "# Количество пройденных вершин графа ДеБрюйна (длинна произведения)\n",
    "CHORD_COUNT = 2000\n",
    "\n",
    "\n",
    "edges_count, origin_mid, mono_mid, voice_count = generator.run(df, CHORD_COUNT, MAX_VOICE_COUNT)\n",
    "\n",
    "# Выводим информацию о среднем количестве ребер\n",
    "randomnicity = f\"{edges_count / CHORD_COUNT:.1f}\"\n",
    "print(\"Обход графа ДеБрюйна завершен, среднее количество ребер: \" + randomnicity)"
   ]
  },
  {
   "cell_type": "markdown",
   "id": "3381c3df-302a-47d7-b206-2774db6969c8",
   "metadata": {},
   "source": [
    "### 2.3 Настройки сохранения"
   ]
  },
  {
   "cell_type": "code",
   "execution_count": 8,
   "id": "d3b1b5c5-aa1c-45c9-8dba-d4f31b1a1dfd",
   "metadata": {},
   "outputs": [],
   "source": [
    "from os import system as execute_command\n",
    "from datetime import datetime\n",
    "\n",
    "# Путь к директории с результирующим миди\n",
    "RESULT_PATH = SOURCE_PATH / \"results\"\n",
    "\n",
    "# Имя результирующего файла\n",
    "date_time = datetime.now().strftime(\"%d.%m.%Y-%H:%M:%S\")\n",
    "\n",
    "# Создадим директорию для разделения результата на моноголосные партии\n",
    "result_path = RESULT_PATH / f\"random_L{L}_{date_time}_{TONALITY}_r{randomnicity}\"\n",
    "execute_command(f\"mkdir -p {result_path}\")\n",
    "\n",
    "filename = \"result\""
   ]
  },
  {
   "cell_type": "markdown",
   "id": "372646e9-3682-46e3-bcaf-2f434fc9f85f",
   "metadata": {},
   "source": [
    "### 2.4 Стилизация"
   ]
  },
  {
   "cell_type": "code",
   "execution_count": 9,
   "id": "d491778d-b3f6-4a05-88d6-bd80b34c5352",
   "metadata": {},
   "outputs": [],
   "source": [
    "# Стилизатор  # Бакалаврский проект Петра Шумнова & ИУ7 (All rights reserved) - https://github.com/MrShumnov/music-style-performer\n",
    "# Путь к стилизатору\n",
    "STYLE_PERFORMER = Path(\"/data/hackathon2023/music-style-performer\")\n",
    "# Путь к образцу стиля исполнения\n",
    "STYLES_PATH = STYLE_PERFORMER / \"styles\"\n",
    "\n",
    "MIDI_STYLE = STYLES_PATH / \"debussy_prelude.mid\"  # файл со стилем, переносимым на произведение/ Дебюсси - импрессионист, близко к джазовой импровизации\n",
    "# MIDI_STYLE = STYLES_PATH / \"scrjabin.mid\"       # файл со стилем, переносимым на произведение/ Классика, романтизм, эмоциональный окрас\n",
    "# MIDI_STYLE = STYLES_PATH / \"rachmaninoff.mid\"   # файл со стилем, переносимым на произведение/ Рахманинов - русская классика, широко и эмоционально\n"
   ]
  },
  {
   "cell_type": "code",
   "execution_count": 10,
   "id": "b048b96f-bdaf-446c-819d-4fe735637c1d",
   "metadata": {},
   "outputs": [
    {
     "name": "stdout",
     "output_type": "stream",
     "text": [
      "Стилизация голоса 1 из 5\n",
      "Start training\n",
      "Step: 500 | total: 5.268390655517578, style: 0.14743469655513763, quality: 0.8453498482704163\n",
      "Step: 1000 | total: 4.818389415740967, style: 0.13289977610111237, quality: 0.831396222114563\n",
      "Step: 1500 | total: 4.51201868057251, style: 0.12100035697221756, quality: 0.8820081949234009\n",
      "Step: 2000 | total: 4.2816572189331055, style: 0.11109382659196854, quality: 0.9488427639007568\n",
      "Step: 2500 | total: 4.103634834289551, style: 0.10285980254411697, quality: 1.0178407430648804\n",
      "Step: 3000 | total: 3.97841477394104, style: 0.09653086215257645, quality: 1.082489013671875\n",
      "Step: 3500 | total: 3.8998708724975586, style: 0.09227757155895233, quality: 1.1315436363220215\n",
      "Step: 4000 | total: 3.848142385482788, style: 0.08941449970006943, quality: 1.1657073497772217\n",
      "Step: 4500 | total: 3.8181447982788086, style: 0.08775412291288376, quality: 1.1855212450027466\n",
      "Step: 5000 | total: 3.8005216121673584, style: 0.08666253089904785, quality: 1.2006456851959229\n",
      "Step: 5500 | total: 3.7907519340515137, style: 0.08617115020751953, quality: 1.2056173086166382\n",
      "Step: 6000 | total: 3.784079074859619, style: 0.08579530566930771, quality: 1.2102199792861938\n",
      "Step: 6500 | total: 3.77994441986084, style: 0.08556318283081055, quality: 1.213049054145813\n",
      "Step: 7000 | total: 3.778557300567627, style: 0.08545005321502686, quality: 1.2150558233261108\n",
      "Step: 7500 | total: 3.7783546447753906, style: 0.08545009791851044, quality: 1.2148516178131104\n",
      "Step: 8000 | total: 3.77833890914917, style: 0.08544746041297913, quality: 1.214915156364441\n",
      "Step: 8500 | total: 3.7783384323120117, style: 0.08544740825891495, quality: 1.2149161100387573\n",
      "Step: 9000 | total: 3.778338670730591, style: 0.08544741570949554, quality: 1.2149162292480469\n",
      "Step: 9500 | total: 3.7783384323120117, style: 0.08544691652059555, quality: 1.2149310111999512\n",
      "Step: 10000 | total: 3.7783398628234863, style: 0.08544725924730301, quality: 1.214922308921814\n",
      "Step: 10500 | total: 3.77833890914917, style: 0.08544718474149704, quality: 1.2149235010147095\n",
      "Step: 11000 | total: 3.7783384323120117, style: 0.08544722199440002, quality: 1.2149218320846558\n",
      "Step: 11500 | total: 3.778338670730591, style: 0.08544804900884628, quality: 1.2148971557617188\n",
      "Step: 12000 | total: 3.778339147567749, style: 0.08544691652059555, quality: 1.2149317264556885\n",
      "Step: 12500 | total: 3.778339147567749, style: 0.0854472815990448, quality: 1.2149207592010498\n",
      "Step: 13000 | total: 3.778339147567749, style: 0.08544724434614182, quality: 1.2149217128753662\n",
      "Step: 13500 | total: 3.778339385986328, style: 0.08544770628213882, quality: 1.214908242225647\n",
      "Step: 14000 | total: 3.778338670730591, style: 0.08544681966304779, quality: 1.2149341106414795\n",
      "Step: 14500 | total: 3.7783398628234863, style: 0.08544744551181793, quality: 1.2149165868759155\n",
      "Step: 15000 | total: 3.7783381938934326, style: 0.0854470282793045, quality: 1.2149274349212646\n",
      "Total time: 523.8\n",
      "Стилизация голоса 2 из 5\n",
      "Start training\n",
      "Step: 500 | total: 5.375081539154053, style: 0.15144813060760498, quality: 0.8316379189491272\n",
      "Step: 1000 | total: 4.859776020050049, style: 0.1362527310848236, quality: 0.7721940875053406\n",
      "Step: 1500 | total: 4.516778469085693, style: 0.12458334118127823, quality: 0.7792780995368958\n",
      "Step: 2000 | total: 4.285843849182129, style: 0.1157977357506752, quality: 0.8119118809700012\n",
      "Step: 2500 | total: 4.1606574058532715, style: 0.11035660654306412, quality: 0.8499592542648315\n",
      "Step: 3000 | total: 4.063401699066162, style: 0.10621670633554459, quality: 0.876900315284729\n",
      "Step: 3500 | total: 3.9974446296691895, style: 0.1030701994895935, quality: 0.9053387641906738\n",
      "Step: 4000 | total: 3.9486279487609863, style: 0.1002165675163269, quality: 0.9421310424804688\n",
      "Step: 4500 | total: 3.928279399871826, style: 0.09869346022605896, quality: 0.9674757719039917\n",
      "Step: 5000 | total: 3.9053001403808594, style: 0.09736517071723938, quality: 0.9843448996543884\n",
      "Step: 5500 | total: 3.875486135482788, style: 0.09572187811136246, quality: 1.0038297176361084\n",
      "Step: 6000 | total: 3.8679890632629395, style: 0.09541338682174683, quality: 1.0055874586105347\n",
      "Step: 6500 | total: 3.8677291870117188, style: 0.0953930988907814, quality: 1.0059361457824707\n",
      "Step: 7000 | total: 3.8669352531433105, style: 0.09533568471670151, quality: 1.0068649053573608\n",
      "Step: 7500 | total: 3.8650197982788086, style: 0.09521343559026718, quality: 1.00861656665802\n",
      "Step: 8000 | total: 3.86277437210083, style: 0.09510380774736404, quality: 1.009660243988037\n",
      "Step: 8500 | total: 3.861665725708008, style: 0.09503264725208282, quality: 1.0106863975524902\n",
      "Step: 9000 | total: 3.861563205718994, style: 0.09503297507762909, quality: 1.0105737447738647\n",
      "Step: 9500 | total: 3.8612470626831055, style: 0.09503155201673508, quality: 1.0103003978729248\n",
      "Step: 10000 | total: 3.861116409301758, style: 0.09503362327814102, quality: 1.0101077556610107\n",
      "Step: 10500 | total: 3.8611159324645996, style: 0.09503480792045593, quality: 1.0100716352462769\n",
      "Step: 11000 | total: 3.861114263534546, style: 0.09503397345542908, quality: 1.0100951194763184\n",
      "Step: 11500 | total: 3.861114978790283, style: 0.09503395855426788, quality: 1.0100961923599243\n",
      "Step: 12000 | total: 3.861114501953125, style: 0.095034658908844, quality: 1.0100746154785156\n",
      "Step: 12500 | total: 3.861114978790283, style: 0.0950341522693634, quality: 1.0100904703140259\n",
      "Step: 13000 | total: 3.861114025115967, style: 0.09503386914730072, quality: 1.0100979804992676\n",
      "Step: 13500 | total: 3.861116409301758, style: 0.0950351133942604, quality: 1.0100629329681396\n",
      "Step: 14000 | total: 3.8611130714416504, style: 0.09503454715013504, quality: 1.0100767612457275\n",
      "Step: 14500 | total: 3.861114025115967, style: 0.09503446519374847, quality: 1.0100799798965454\n",
      "Step: 15000 | total: 3.8611152172088623, style: 0.09503541141748428, quality: 1.0100529193878174\n",
      "Total time: 334.1\n",
      "Стилизация голоса 3 из 5\n",
      "Start training\n",
      "Step: 500 | total: 5.370242595672607, style: 0.1511460244655609, quality: 0.8358616828918457\n",
      "Step: 1000 | total: 4.8339924812316895, style: 0.13752056658267975, quality: 0.7083755135536194\n",
      "Step: 1500 | total: 4.531877517700195, style: 0.1280907839536667, quality: 0.6891539096832275\n",
      "Step: 2000 | total: 4.2780327796936035, style: 0.11835886538028717, quality: 0.7272669076919556\n",
      "Step: 2500 | total: 4.126544952392578, style: 0.11162060499191284, quality: 0.777927041053772\n",
      "Step: 3000 | total: 4.051603317260742, style: 0.10815920680761337, quality: 0.8068268895149231\n",
      "Step: 3500 | total: 3.9886772632598877, style: 0.10459265857934952, quality: 0.850897490978241\n",
      "Step: 4000 | total: 3.938805341720581, style: 0.10150400549173355, quality: 0.8936850428581238\n",
      "Step: 4500 | total: 3.8982391357421875, style: 0.09926646947860718, quality: 0.9202451109886169\n",
      "Step: 5000 | total: 3.8789610862731934, style: 0.09826508909463882, quality: 0.9310083389282227\n",
      "Step: 5500 | total: 3.868025064468384, style: 0.09753011167049408, quality: 0.9421218037605286\n",
      "Step: 6000 | total: 3.86041259765625, style: 0.09685742855072021, quality: 0.9546898603439331\n",
      "Step: 6500 | total: 3.854888439178467, style: 0.09648869186639786, quality: 0.9602277278900146\n",
      "Step: 7000 | total: 3.8523240089416504, style: 0.0962231308221817, quality: 0.965630054473877\n",
      "Step: 7500 | total: 3.8522748947143555, style: 0.09622351825237274, quality: 0.9655691981315613\n",
      "Step: 8000 | total: 3.8522653579711914, style: 0.09621589630842209, quality: 0.9657883048057556\n",
      "Step: 8500 | total: 3.852264881134033, style: 0.09621373564004898, quality: 0.9658528566360474\n",
      "Step: 9000 | total: 3.8522000312805176, style: 0.0962090864777565, quality: 0.965927243232727\n",
      "Step: 9500 | total: 3.8521294593811035, style: 0.09622684866189957, quality: 0.9653240442276001\n",
      "Step: 10000 | total: 3.852128744125366, style: 0.09622670710086823, quality: 0.9653275609016418\n",
      "Step: 10500 | total: 3.852128505706787, style: 0.09622598439455032, quality: 0.965349018573761\n",
      "Step: 11000 | total: 3.8521289825439453, style: 0.09622658789157867, quality: 0.9653314352035522\n",
      "Step: 11500 | total: 3.8521289825439453, style: 0.09622326493263245, quality: 0.9654309749603271\n",
      "Step: 12000 | total: 3.852130651473999, style: 0.09622566401958466, quality: 0.9653606414794922\n",
      "Step: 12500 | total: 3.852130174636841, style: 0.09622680395841599, quality: 0.9653260111808777\n",
      "Step: 13000 | total: 3.8521294593811035, style: 0.09622560441493988, quality: 0.9653612971305847\n",
      "Step: 13500 | total: 3.852128744125366, style: 0.0962253212928772, quality: 0.965368926525116\n",
      "Step: 14000 | total: 3.8521292209625244, style: 0.0962250828742981, quality: 0.9653765559196472\n",
      "Step: 14500 | total: 3.8521289825439453, style: 0.09622494876384735, quality: 0.9653803110122681\n",
      "Step: 15000 | total: 3.852128267288208, style: 0.09622464329004288, quality: 0.9653889536857605\n",
      "Total time: 223.6\n",
      "Стилизация голоса 4 из 5\n",
      "Start training\n",
      "Step: 500 | total: 5.380181312561035, style: 0.15057437121868134, quality: 0.8629501461982727\n",
      "Step: 1000 | total: 4.7159013748168945, style: 0.12999805808067322, quality: 0.8159594535827637\n",
      "Step: 1500 | total: 4.3868303298950195, style: 0.11840881407260895, quality: 0.834566056728363\n",
      "Step: 2000 | total: 4.147513389587402, style: 0.10818370431661606, quality: 0.9020022749900818\n",
      "Step: 2500 | total: 3.988339900970459, style: 0.10152425616979599, quality: 0.9426122903823853\n",
      "Step: 3000 | total: 3.879984140396118, style: 0.09679482877254486, quality: 0.9761393666267395\n",
      "Step: 3500 | total: 3.803471088409424, style: 0.09318351745605469, quality: 1.0079654455184937\n",
      "Step: 4000 | total: 3.748683452606201, style: 0.09022438526153564, quality: 1.0419518947601318\n",
      "Step: 4500 | total: 3.72395658493042, style: 0.08875876665115356, quality: 1.0611934661865234\n",
      "Step: 5000 | total: 3.697010040283203, style: 0.08780862390995026, quality: 1.0627511739730835\n",
      "Step: 5500 | total: 3.679424285888672, style: 0.0865553691983223, quality: 1.0827631950378418\n",
      "Step: 6000 | total: 3.6759705543518066, style: 0.08627098798751831, quality: 1.0878410339355469\n",
      "Step: 6500 | total: 3.673511028289795, style: 0.08605920523405075, quality: 1.0917348861694336\n",
      "Step: 7000 | total: 3.6728577613830566, style: 0.0860041156411171, quality: 1.092734456062317\n",
      "Step: 7500 | total: 3.671422004699707, style: 0.08587934076786041, quality: 1.0950418710708618\n",
      "Step: 8000 | total: 3.6713414192199707, style: 0.08588623255491257, quality: 1.0947545766830444\n",
      "Step: 8500 | total: 3.6695852279663086, style: 0.08575771749019623, quality: 1.0968536138534546\n",
      "Step: 9000 | total: 3.667301654815674, style: 0.08554370701313019, quality: 1.1009905338287354\n",
      "Step: 9500 | total: 3.6673057079315186, style: 0.08554480969905853, quality: 1.100961446762085\n",
      "Step: 10000 | total: 3.667297840118408, style: 0.08554220199584961, quality: 1.1010316610336304\n",
      "Step: 10500 | total: 3.6673035621643066, style: 0.08554616570472717, quality: 1.1009185314178467\n",
      "Step: 11000 | total: 3.6672990322113037, style: 0.08554447442293167, quality: 1.1009647846221924\n",
      "Step: 11500 | total: 3.667297840118408, style: 0.08554419875144958, quality: 1.100972056388855\n",
      "Step: 12000 | total: 3.667299747467041, style: 0.08554613590240479, quality: 1.100915551185608\n",
      "Step: 12500 | total: 3.667301893234253, style: 0.08554447442293167, quality: 1.1009676456451416\n",
      "Step: 13000 | total: 3.6673004627227783, style: 0.08554449677467346, quality: 1.1009654998779297\n",
      "Step: 13500 | total: 3.667299509048462, style: 0.08554402738809586, quality: 1.1009786128997803\n",
      "Step: 14000 | total: 3.66729736328125, style: 0.08554378151893616, quality: 1.10098397731781\n",
      "Step: 14500 | total: 3.667301654815674, style: 0.08554423600435257, quality: 1.1009745597839355\n",
      "Step: 15000 | total: 3.667302131652832, style: 0.08554525673389435, quality: 1.1009445190429688\n",
      "Total time: 155.5\n",
      "Голос 4 не поддается стилизации\n"
     ]
    },
    {
     "ename": "NameError",
     "evalue": "name 'debug' is not defined",
     "output_type": "error",
     "traceback": [
      "\u001b[0;31m---------------------------------------------------------------------------\u001b[0m",
      "\u001b[0;31mNameError\u001b[0m                                 Traceback (most recent call last)",
      "Cell \u001b[0;32mIn[10], line 3\u001b[0m\n\u001b[1;32m      1\u001b[0m \u001b[38;5;28;01mfrom\u001b[39;00m \u001b[38;5;21;01mmusic_generation\u001b[39;00m \u001b[38;5;28;01mimport\u001b[39;00m PerformerWrapper\n\u001b[0;32m----> 3\u001b[0m merged_mid_styled \u001b[38;5;241m=\u001b[39m \u001b[43mPerformerWrapper\u001b[49m\u001b[43m(\u001b[49m\u001b[43mSTYLE_PERFORMER\u001b[49m\u001b[43m,\u001b[49m\u001b[43m \u001b[49m\u001b[43mMIDI_STYLE\u001b[49m\u001b[43m)\u001b[49m\u001b[38;5;241;43m.\u001b[39;49m\u001b[43mstylize\u001b[49m\u001b[43m(\u001b[49m\u001b[43mmono_mid\u001b[49m\u001b[43m,\u001b[49m\u001b[43m \u001b[49m\u001b[43mvoice_count\u001b[49m\u001b[43m)\u001b[49m\n\u001b[1;32m      4\u001b[0m merged_mid_styled\u001b[38;5;241m.\u001b[39msave(result_path \u001b[38;5;241m/\u001b[39m \u001b[38;5;124mf\u001b[39m\u001b[38;5;124m\"\u001b[39m\u001b[38;5;132;01m{\u001b[39;00mfilename\u001b[38;5;132;01m}\u001b[39;00m\u001b[38;5;124m.mid\u001b[39m\u001b[38;5;124m\"\u001b[39m)\n",
      "File \u001b[0;32m~/popov-music/music_generation/stylizing.py:41\u001b[0m, in \u001b[0;36mPerformerWrapper.stylize\u001b[0;34m(self, mono_mid, voice_count)\u001b[0m\n\u001b[1;32m     38\u001b[0m         mono_mid_styled[i] \u001b[38;5;241m=\u001b[39m mono_mid[i]\n\u001b[1;32m     40\u001b[0m \u001b[38;5;66;03m# Собираем все midi вместе в многоголосный трек\u001b[39;00m\n\u001b[0;32m---> 41\u001b[0m \u001b[38;5;28;01mreturn\u001b[39;00m \u001b[43mmerge_tracks\u001b[49m\u001b[43m(\u001b[49m\u001b[43mmono_mid_styled\u001b[49m\u001b[43m,\u001b[49m\u001b[43m \u001b[49m\u001b[43mvoice_count\u001b[49m\u001b[43m)\u001b[49m\n",
      "File \u001b[0;32m~/popov-music/music_generation/stylizing.py:75\u001b[0m, in \u001b[0;36mmerge_tracks\u001b[0;34m(mid_array, voice_count)\u001b[0m\n\u001b[1;32m     73\u001b[0m \u001b[38;5;66;03m# Вычисляем масштаб для пересчета темпа\u001b[39;00m\n\u001b[1;32m     74\u001b[0m ticks_per_beat_factor \u001b[38;5;241m=\u001b[39m set_time_factor(mid\u001b[38;5;241m.\u001b[39mticks_per_beat)\n\u001b[0;32m---> 75\u001b[0m \u001b[38;5;28;01mif\u001b[39;00m \u001b[43mdebug\u001b[49m: \u001b[38;5;28mprint\u001b[39m(\u001b[38;5;124mf\u001b[39m\u001b[38;5;124m'\u001b[39m\u001b[38;5;124mИсходная композиция. Количество тиков в четверти: \u001b[39m\u001b[38;5;132;01m{\u001b[39;00mmid\u001b[38;5;241m.\u001b[39mticks_per_beat\u001b[38;5;132;01m}\u001b[39;00m\u001b[38;5;124m'\u001b[39m)\n\u001b[1;32m     76\u001b[0m \u001b[38;5;66;03m# Темп всегда 120 ударов на целую ноту\u001b[39;00m\n\u001b[1;32m     77\u001b[0m merged_mid\u001b[38;5;241m.\u001b[39mticks_per_beat \u001b[38;5;241m=\u001b[39m \u001b[38;5;241m120\u001b[39m\n",
      "\u001b[0;31mNameError\u001b[0m: name 'debug' is not defined"
     ]
    }
   ],
   "source": [
    "from music_generation import PerformerWrapper\n",
    "\n",
    "merged_mid_styled = PerformerWrapper(STYLE_PERFORMER, MIDI_STYLE).stylize(mono_mid, voice_count)\n",
    "merged_mid_styled.save(result_path / f\"{filename}.mid\")"
   ]
  },
  {
   "cell_type": "markdown",
   "id": "352e3988-d696-4f6d-81d1-7373875aa0d5",
   "metadata": {},
   "source": [
    "### 2.5 MP3"
   ]
  },
  {
   "cell_type": "code",
   "execution_count": null,
   "id": "4a3eec5a-775f-4cc6-8a03-8ec8fe608ab1",
   "metadata": {},
   "outputs": [],
   "source": [
    "from music_generation import MidiToMp3Converter\n",
    "\n",
    "# Настройка темпа при генерации mp3 (выполняется в timidity)\n",
    "TEMPO = 40\n",
    "\n",
    "# Настройка длительности mp3 (максимальное время звучания в секундах). Оставшаяся часть midi в аудио не входит\n",
    "MAX_DURATION = 240\n",
    "\n",
    "midi_to_mp3 = MidiToMp3Converter(SOURCE_PATH / \"midi2mp3.sh\", TEMPO, MAX_DURATION)"
   ]
  },
  {
   "cell_type": "code",
   "execution_count": null,
   "id": "45654c44-372f-48b2-8da2-93da698a2b02",
   "metadata": {},
   "outputs": [],
   "source": [
    "# Синтезировать звук фортепианного исполнения через Timidity\n",
    "midi_to_mp3.convert(\"timidity_piano.cfg\", result_path / f\"{filename}.mid\", result_path / f\"{filename}_pianoforte.mp3\")"
   ]
  },
  {
   "cell_type": "code",
   "execution_count": null,
   "id": "26dd9e99-331c-455e-8010-392bf87d1763",
   "metadata": {},
   "outputs": [],
   "source": [
    "import numpy as np\n",
    "from music_generation import apply_instruments_table\n",
    "\n",
    "instruments_table = np.matrix([  # TODO: убрать использование numpy\n",
    "    # \"Название инструмента\", \"Номер канала\", \"Нижняя граница\", \"Верхняя граница\"\n",
    "    ['Guitar', 1, 40, 60],\n",
    "    ['Ahh', 2, 56, 84],\n",
    "    ['Violins', 3, 72, 120]\n",
    "])"
   ]
  },
  {
   "cell_type": "code",
   "execution_count": null,
   "id": "9de54f37-9355-4574-8f58-0977309e161a",
   "metadata": {},
   "outputs": [],
   "source": [
    "# Синтезировать звук через Timidity\n",
    "apply_instruments_table(instruments_table, merged_mid_styled).save(result_path / f\"{filename}_styled.mid\")\n",
    "midi_to_mp3.convert(\"timidity.cfg\", result_path / f\"{filename}_styled.mid\", result_path / f\"{filename}_styled.mp3\")"
   ]
  },
  {
   "cell_type": "code",
   "execution_count": null,
   "id": "3e6aca6a-883e-4245-8e15-0cbd1b9738c8",
   "metadata": {},
   "outputs": [],
   "source": [
    "# Для сравнения, синтезировать звук через Timidity для origin\n",
    "apply_instruments_table(instruments_table, origin_mid).save(result_path / f\"{filename}_origin.mid\")\n",
    "midi_to_mp3.convert(\"timidity.cfg\", result_path / f\"{filename}_origin.mid\", result_path / f\"{filename}_origin.mp3\")"
   ]
  },
  {
   "cell_type": "code",
   "execution_count": null,
   "id": "f39cde1a-b1c7-4e2b-9b60-555174d1808e",
   "metadata": {},
   "outputs": [],
   "source": []
  },
  {
   "cell_type": "code",
   "execution_count": null,
   "id": "f1f563e6-9a52-463e-9988-329e6dfcb134",
   "metadata": {},
   "outputs": [],
   "source": []
  }
 ],
 "metadata": {
  "kernelspec": {
   "display_name": "Python 3 (ipykernel)",
   "language": "python",
   "name": "python3"
  },
  "language_info": {
   "codemirror_mode": {
    "name": "ipython",
    "version": 3
   },
   "file_extension": ".py",
   "mimetype": "text/x-python",
   "name": "python",
   "nbconvert_exporter": "python",
   "pygments_lexer": "ipython3",
   "version": "3.10.12"
  }
 },
 "nbformat": 4,
 "nbformat_minor": 5
}
